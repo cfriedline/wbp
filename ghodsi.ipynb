{
 "cells": [
  {
   "cell_type": "code",
   "execution_count": 0,
   "metadata": {
    "collapsed": true
   },
   "outputs": [],
   "source": [
    "import os\n",
    "from Bio.SeqIO.QualityIO import FastqGeneralIterator"
   ]
  },
  {
   "cell_type": "code",
   "execution_count": 0,
   "metadata": {
    "collapsed": false
   },
   "outputs": [],
   "source": [
    "cd /gpfs_fs/home/eckertlab/wbp"
   ]
  },
  {
   "cell_type": "code",
   "execution_count": 0,
   "metadata": {
    "collapsed": false,
    "scrolled": true
   },
   "outputs": [],
   "source": [
    "ls"
   ]
  },
  {
   "cell_type": "code",
   "execution_count": 0,
   "metadata": {
    "collapsed": false
   },
   "outputs": [],
   "source": [
    "reads = \"/home/cfriedline/eckertlab/wbp/012compiled.fastq\"\n",
    "mprob = \"/home/cfriedline/g/src/assembly-eval-code/src/dynamic/mprobability\"\n",
    "bowtie_build = \"/home/cfriedline/g/src/bowtie2-2.2.4/bowtie2-build\"\n",
    "dynamic_mean = \"/home/cfriedline/g/src/assembly-eval-code/src/dynamic/mean -t 1e-150\""
   ]
  },
  {
   "cell_type": "code",
   "execution_count": 0,
   "metadata": {
    "collapsed": false
   },
   "outputs": [],
   "source": [
    "contig_files = !find . -type f | grep 'contigs.fa$' | grep velvet"
   ]
  },
  {
   "cell_type": "code",
   "execution_count": 0,
   "metadata": {
    "collapsed": false
   },
   "outputs": [],
   "source": [
    "contig_files = [os.path.abspath(x) for x in contig_files]"
   ]
  },
  {
   "cell_type": "code",
   "execution_count": 0,
   "metadata": {
    "collapsed": false
   },
   "outputs": [],
   "source": [
    "contig_files"
   ]
  },
  {
   "cell_type": "code",
   "execution_count": 0,
   "metadata": {
    "collapsed": false
   },
   "outputs": [],
   "source": [
    "#only needs run once\n",
    "for c in contig_files:\n",
    "    if not '47' in c: #47 already done\n",
    "        print(\"qsub bowtie_build.sh \\\"%s\\\" \\\"%s\\\"\" %  (c, c))"
   ]
  },
  {
   "cell_type": "code",
   "execution_count": 0,
   "metadata": {
    "collapsed": true
   },
   "outputs": [],
   "source": [
    "seqs_per_file = 160000"
   ]
  },
  {
   "cell_type": "code",
   "execution_count": 0,
   "metadata": {
    "collapsed": true
   },
   "outputs": [],
   "source": [
    "def format_fastq_tuple(title, seq, qual):\n",
    "    assert len(seq) == len(qual)\n",
    "    return \"@%s\\n%s\\n+\\n%s\\n\" % (title, seq, qual)"
   ]
  },
  {
   "cell_type": "code",
   "execution_count": 0,
   "metadata": {
    "collapsed": false,
    "scrolled": true
   },
   "outputs": [],
   "source": [
    "def get_k_from_name(fname):\n",
    "    return os.path.basename(os.path.dirname(fname)).split(\"_\")[-1]\n",
    "\n",
    "for c in contig_files:\n",
    "    print(get_k_from_name(c))"
   ]
  },
  {
   "cell_type": "code",
   "execution_count": 0,
   "metadata": {
    "collapsed": false
   },
   "outputs": [],
   "source": [
    "reads"
   ]
  },
  {
   "cell_type": "code",
   "execution_count": 0,
   "metadata": {
    "collapsed": false
   },
   "outputs": [],
   "source": [
    "cd .."
   ]
  },
  {
   "cell_type": "code",
   "execution_count": 0,
   "metadata": {
    "collapsed": false,
    "scrolled": false
   },
   "outputs": [],
   "source": [
    "h = open(reads)\n",
    "at = 0\n",
    "current = 0\n",
    "writer_num = 0\n",
    "out_file = None\n",
    "outfiles = []\n",
    "for t, s, q in FastqGeneralIterator(h):\n",
    "    if not out_file:\n",
    "        out_file = open(\"%s_%d\" % (reads, writer_num), \"w\")\n",
    "        outfiles.append(out_file.name)\n",
    "        writer_num += 1\n",
    "        \n",
    "    if current == seqs_per_file:\n",
    "        out_file.close()\n",
    "        out_file = open(\"%s_%d\" % (reads, writer_num), \"w\")\n",
    "        outfiles.append(out_file.name)\n",
    "        writer_num += 1\n",
    "        current = 0\n",
    "    \n",
    "    out_file.write(format_fastq_tuple(t, s, q))\n",
    "    \n",
    "    at += 1\n",
    "    current += 1\n",
    "    \n",
    "    if at % 100000 == 0:\n",
    "        print(\"at %d/%d/%d (%d/file), writer %d\" % (current, at, num_seqs, seqs_per_file, writer_num-1))\n",
    "out_file.close()"
   ]
  },
  {
   "cell_type": "code",
   "execution_count": 0,
   "metadata": {
    "collapsed": false
   },
   "outputs": [],
   "source": [
    "total = 0\n",
    "for o in outfiles:\n",
    "    res = !grep -c '^\\+$' {o}\n",
    "    total += int(res[0])\n",
    "total"
   ]
  },
  {
   "cell_type": "code",
   "execution_count": 0,
   "metadata": {
    "collapsed": true
   },
   "outputs": [],
   "source": [
    "total_reads =  95605528/4"
   ]
  },
  {
   "cell_type": "code",
   "execution_count": 0,
   "metadata": {
    "collapsed": false
   },
   "outputs": [],
   "source": [
    "assert total_reads == total"
   ]
  },
  {
   "cell_type": "code",
   "execution_count": 0,
   "metadata": {
    "collapsed": true
   },
   "outputs": [],
   "source": [
    "def ghodsi_cmd(f, a):\n",
    "    return \"cat %s | %s -a %s -p 30 -f fastq > %s-%s.lap\" % (f, mprob, a, f, get_k_from_name(a))"
   ]
  },
  {
   "cell_type": "code",
   "execution_count": 0,
   "metadata": {
    "collapsed": false
   },
   "outputs": [],
   "source": [
    "cmds = []\n",
    "for o in outfiles:\n",
    "    for c in contig_files:\n",
    "        cmds.append(ghodsi_cmd(o, c))"
   ]
  },
  {
   "cell_type": "code",
   "execution_count": 0,
   "metadata": {
    "collapsed": false
   },
   "outputs": [],
   "source": [
    "cmds[0]"
   ]
  },
  {
   "cell_type": "code",
   "execution_count": 0,
   "metadata": {
    "collapsed": false
   },
   "outputs": [],
   "source": [
    "scripts = []\n",
    "for i, cmd in enumerate(cmds):\n",
    "    script = \"\"\"#!/bin/bash\n",
    "#$ -cwd\n",
    "#$ -pe smp 30\n",
    "#$ -N ghodsi%d\n",
    "#$ -V\n",
    "#$ -j y\n",
    "%s\n",
    "    \"\"\" % (i, cmd)\n",
    "    with open(\"ghodsi_%s.sh\" % i, \"w\") as o:\n",
    "        scripts.append(os.path.abspath(o.name))\n",
    "        os.chmod(o.name, int('744', 8))\n",
    "        o.write(script)"
   ]
  },
  {
   "cell_type": "code",
   "execution_count": 0,
   "metadata": {
    "collapsed": false
   },
   "outputs": [],
   "source": [
    "with open(\"submit.sh\", \"w\") as o:\n",
    "    os.chmod(o.name, int('744', 8))\n",
    "    for s in scripts:\n",
    "        o.write(\"qsub %s\\n\" % s)"
   ]
  },
  {
   "cell_type": "code",
   "execution_count": 0,
   "metadata": {
    "collapsed": true
   },
   "outputs": [],
   "source": [
    "lap_files = !ls *.lap | grep -v collapsed"
   ]
  },
  {
   "cell_type": "code",
   "execution_count": 0,
   "metadata": {
    "collapsed": true
   },
   "outputs": [],
   "source": [
    "def collapse_lap(files, name):\n",
    "    with open(name, \"w\") as o:\n",
    "        for f in files:\n",
    "            for line in open(f):\n",
    "                o.write(line)"
   ]
  },
  {
   "cell_type": "code",
   "execution_count": 0,
   "metadata": {
    "collapsed": true
   },
   "outputs": [],
   "source": []
  }
 ],
 "metadata": {
  "gist": {
   "data": {
    "description": "wbp/Untitled1.ipynb",
    "public": false
   },
   "id": ""
  },
  "kernelspec": {
   "display_name": "Python 3",
   "language": "python",
   "name": "python3"
  },
  "language_info": {
   "codemirror_mode": {
    "name": "ipython",
    "version": 3
   },
   "file_extension": ".py",
   "mimetype": "text/x-python",
   "name": "python",
   "nbconvert_exporter": "python",
   "pygments_lexer": "ipython3",
   "version": "3.4.4"
  }
 },
 "nbformat": 4,
 "nbformat_minor": 0
}
